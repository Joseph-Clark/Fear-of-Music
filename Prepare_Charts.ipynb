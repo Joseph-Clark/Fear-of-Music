{
 "cells": [
  {
   "cell_type": "code",
   "execution_count": 3,
   "metadata": {
    "collapsed": false
   },
   "outputs": [],
   "source": [
    "import billboard\n",
    "import numpy\n",
    "import matplotlib\n",
    "import pandas\n",
    "import csv\n",
    "import os\n",
    "import string"
   ]
  },
  {
   "cell_type": "code",
   "execution_count": 4,
   "metadata": {
    "collapsed": true
   },
   "outputs": [],
   "source": [
    "def update_incomplete_chart(chart, struct): \n",
    "  for entry in chart: \n",
    "    if entry.title in struct:\n",
    "      struct[entry.title][entry.rank-1] += 1 \n",
    "    else: \n",
    "      positions = [0]*100\n",
    "      positions[entry.rank-1] += 1\n",
    "      struct[entry.title] = positions\n",
    "  return 0 \n",
    "\n",
    "    \n",
    "def fill_struct(chart, struct, year):\n",
    "  while (chart.date[:4] == year): \n",
    "    \n",
    "    if len(chart) != 100: \n",
    "      update_incomplete_chart(chart, struct) \n",
    "\n",
    "    #update/add entries in complete chart\n",
    "    else: \n",
    "      for i in range(0,len(chart)): \n",
    "        entry = chart[i]\n",
    "        if entry.title in struct:\n",
    "          fu = struct[entry.title]\n",
    "          fu[i] += 1 \n",
    "        else: \n",
    "          positions = [0]*len(chart)\n",
    "          positions[i] += 1\n",
    "          struct[entry.title] = positions\n",
    "    \n",
    "    chart = billboard.ChartData('hot-100', chart.previousDate)\n",
    "    \n",
    "  return struct\n",
    "\n",
    "def write_struct(struct, year): \n",
    "  file_name = \"/Data/charts/\" + year + \"_Charts.csv\"\n",
    "  path=os.getcwd()+file_name\n",
    "  df = pandas.DataFrame()\n",
    "  df = df.from_dict(struct)\n",
    "  \n",
    "  f = open(path,'w+')\n",
    "  df.to_csv(path_or_buf=f, index_label=False)\n",
    "  f.close()\n",
    "  \n",
    "  print(\"SUCCESS: write to \" + path)\n",
    "  \n",
    "  return 0 \n",
    "\n",
    "def find_year_end_chart(year): \n",
    "  date = year + \"-12-31\"\n",
    "  chart = billboard.ChartData('hot-100', date=date, quantize=True)  \n",
    "  \n",
    "  #in case it over shot\n",
    "  while chart.date[:4] != year:\n",
    "    chart = billboard.ChartData('hot-100', chart.previousDate) \n",
    "  \n",
    "  return chart"
   ]
  },
  {
   "cell_type": "code",
   "execution_count": 21,
   "metadata": {
    "collapsed": false,
    "scrolled": false
   },
   "outputs": [
    {
     "name": "stdout",
     "output_type": "stream",
     "text": [
      "\n",
      "PREPARE_CHARTS.ipynb\n",
      "\n",
      "\n",
      "Pulling charts for 1961 starting on 1961-12-30\n",
      "1961-12-23\n",
      "1961-12-16\n",
      "1961-12-09\n",
      "1961-12-02\n",
      "1961-11-25\n",
      "1961-11-18\n",
      "1961-11-11\n",
      "1961-11-04\n",
      "1961-10-28\n",
      "1961-10-21\n",
      "1961-10-14\n",
      "1961-10-07\n",
      "1961-09-30\n",
      "1961-09-23\n",
      "1961-09-16\n",
      "1961-09-09\n",
      "1961-09-02\n",
      "1961-08-26\n",
      "1961-08-19\n",
      "1961-08-12\n",
      "1961-08-05\n",
      "1961-07-29\n",
      "1961-07-22\n",
      "1961-07-15\n",
      "1961-07-08\n",
      "1961-07-01\n",
      "1961-06-24\n",
      "1961-06-17\n",
      "1961-06-10\n",
      "1961-06-03\n",
      "1961-05-27\n",
      "1961-05-20\n",
      "1961-05-13\n",
      "1961-05-06\n",
      "1961-04-29\n",
      "1961-04-22\n",
      "1961-04-15\n",
      "1961-04-08\n",
      "1961-04-01\n",
      "1961-03-25\n",
      "1961-03-18\n",
      "1961-03-11\n",
      "1961-03-04\n",
      "1961-02-25\n",
      "1961-02-18\n",
      "1961-02-11\n",
      "1961-02-04\n",
      "1961-01-28\n",
      "1961-01-21\n",
      "1961-01-14\n",
      "1961-01-07\n",
      "1960-12-31\n",
      "Attempting to write charts for 1961\n",
      "SUCCESS: write to /Users/joey/Desktop/Code/charts/1961_Charts.csv\n"
     ]
    }
   ],
   "source": [
    "#MAIN METHOD \n",
    "\n",
    "# pulls data from billboard api, creates DataFrame, and stores in csv file\n",
    "\n",
    "year_of_charts = billboard.ChartData('hot-100')\n",
    "year = year_of_charts.date[:4]\n",
    "print(\"\\nPREPARE_CHARTS.ipynb\\n\")\n",
    "\n",
    "#GETTING ALL CHARTS\n",
    "while year_of_charts.previousDate:\n",
    "  print(\"\\nPulling charts for \" + year + \" starting on \" + year_of_charts.date)\n",
    "  \n",
    "  struct = {}\n",
    "  \n",
    "  #should fill struct for year\n",
    "  struct = fill_struct(year_of_charts, struct, year)\n",
    "\n",
    "  print(\"Attempting to write charts for \" + year)\n",
    "  \n",
    "  #write struct which reps year in charts \n",
    "  write_struct(struct, year)\n",
    "\n",
    "  #get the next years latest chart for struct \n",
    "  year = str(int(year)-1)\n",
    "  year_of_charts = find_year_end_chart(year)\n",
    "\n",
    "  #NEED TO EXIT GRACEFULLY "
   ]
  },
  {
   "cell_type": "code",
   "execution_count": 7,
   "metadata": {
    "collapsed": false
   },
   "outputs": [
    {
     "name": "stdout",
     "output_type": "stream",
     "text": [
      "Reached end of charts\n"
     ]
    }
   ],
   "source": [
    "# Find all charts that do not contain 100 entries and print to text file \n",
    "\n",
    "chart = find_year_end_chart(\"1961\")\n",
    "fi = open(\"./Misc./Bad_Singles_Charts1961.txt\",'w+')\n",
    "while chart.previousDate:\n",
    "  if len(chart) != 100: \n",
    "    fi.write(\"ON \" + chart.date + \" THE CHART ONLY CONTAINED \" + str(len(chart)) + \" ENTRIES\" + \"\\n\")\n",
    "  try: \n",
    "    chart = billboard.ChartData('hot-100', chart.previousDate) \n",
    "  except AttributeError:\n",
    "    print(\"Reached end of charts\")\n",
    "    break\n",
    "fi.close()\n",
    "print(\"File successfully closed\")"
   ]
  },
  {
   "cell_type": "code",
   "execution_count": null,
   "metadata": {
    "collapsed": true
   },
   "outputs": [],
   "source": []
  }
 ],
 "metadata": {
  "anaconda-cloud": {},
  "kernelspec": {
   "display_name": "Python [conda root]",
   "language": "python",
   "name": "conda-root-py"
  },
  "language_info": {
   "codemirror_mode": {
    "name": "ipython",
    "version": 3
   },
   "file_extension": ".py",
   "mimetype": "text/x-python",
   "name": "python",
   "nbconvert_exporter": "python",
   "pygments_lexer": "ipython3",
   "version": "3.5.2"
  }
 },
 "nbformat": 4,
 "nbformat_minor": 1
}
